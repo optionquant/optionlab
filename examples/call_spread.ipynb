{
 "cells": [
  {
   "cell_type": "markdown",
   "metadata": {},
   "source": [
    "# Call Spread with highest probability of profit (PoP)\n",
    "\n",
    "Call spreads are [vertical spreads](https://www.investopedia.com/terms/v/verticalspread.asp), i.e., two-legged options strategies where the trader buys a call and simultaneously sells another call, both with same expiration but different strikes.\n",
    "\n",
    "Vertical spreads offer a downside risk floor, contributing to effective risk management, while also capping potential gains.\n",
    "\n",
    "In this notebook, we conduct a search for the call spread with the highest probability of profit by considering all possible pairs of strikes, with and without a constraint. The underlying asset in focus is Microsoft stock, which was trading at 342.97 on November 22, 2021. The strike, bid price, and ask price of call options expiring on December 17, 2021, are sourced from a CSV file.\n",
    "\n",
    "For further details on this study, refer to [this article on Medium.com](https://medium.com/@rgaveiga/python-for-options-trading-1-selecting-a-call-spread-with-the-highest-probability-of-profit-8e61c9d325d6)\n",
    "\n",
    "**Caveat: Options are very risky derivatives and, like any other type of financial vehicle, trading options requires due diligence. Transactions shown as examples of trading strategies with options in this notebook are not recommendations.**"
   ]
  },
  {
   "cell_type": "code",
   "execution_count": 4,
   "metadata": {
    "ExecuteTime": {
     "end_time": "2024-03-15T17:49:07.878194Z",
     "start_time": "2024-03-15T17:49:06.317636Z"
    }
   },
   "outputs": [],
   "source": [
    "from __future__ import print_function\n",
    "\n",
    "import datetime as dt\n",
    "\n",
    "import matplotlib.pyplot as plt\n",
    "import pandas as pd\n",
    "from numpy import zeros\n",
    "\n",
    "from optionlab import Inputs, run_strategy\n",
    "\n",
    "%matplotlib inline"
   ]
  },
  {
   "cell_type": "code",
   "execution_count": 6,
   "metadata": {
    "ExecuteTime": {
     "end_time": "2024-03-12T22:02:20.158680Z",
     "start_time": "2024-03-12T22:02:20.153280Z"
    }
   },
   "outputs": [],
   "source": [
    "stock_price = 342.97\n",
    "volatility = 0.18\n",
    "start_date = dt.date(2021, 11, 22)\n",
    "target_date = dt.date(2021, 12, 17)\n",
    "interest_rate = 0.001\n",
    "min_stock = 0.0\n",
    "max_stock = stock_price + round(stock_price * 0.5, 2)"
   ]
  },
  {
   "cell_type": "code",
   "execution_count": 7,
   "metadata": {
    "ExecuteTime": {
     "end_time": "2024-03-13T02:12:57.784183Z",
     "start_time": "2024-03-13T02:12:57.766941Z"
    }
   },
   "outputs": [],
   "source": [
    "df = pd.read_csv(\"msft_22-November-2021.csv\")\n",
    "chain = []\n",
    "\n",
    "for i, _ in enumerate(df[\"Expiration\"]):\n",
    "    if (\n",
    "        df[\"Expiration\"][i] == target_date.strftime(\"%Y-%m-%d\")\n",
    "        and df[\"Type\"][i] == \"call\"\n",
    "    ):\n",
    "        chain.append([df[\"Strike\"][i], df[\"Bid\"][i], df[\"Ask\"][i]])"
   ]
  },
  {
   "cell_type": "markdown",
   "metadata": {},
   "source": [
    "### Unconstrained:"
   ]
  },
  {
   "cell_type": "code",
   "execution_count": 8,
   "metadata": {
    "ExecuteTime": {
     "end_time": "2024-03-13T02:12:59.278523Z",
     "start_time": "2024-03-13T02:12:59.263619Z"
    }
   },
   "outputs": [],
   "source": [
    "def get_highest_pop():\n",
    "    maxpop = 0.0\n",
    "\n",
    "    best_strategy = None\n",
    "    for i in range(len(chain) - 1):\n",
    "        for j in range(i + i, len(chain)):\n",
    "            for k in ((\"sell\", \"buy\"), (\"buy\", \"sell\")):\n",
    "                if k[0] == \"sell\":\n",
    "                    premium = [chain[i][1], chain[j][2]]\n",
    "                else:\n",
    "                    premium = [chain[i][2], chain[j][1]]\n",
    "\n",
    "                strategy = [\n",
    "                    {\n",
    "                        \"type\": \"call\",\n",
    "                        \"strike\": chain[i][0],\n",
    "                        \"premium\": premium[0],\n",
    "                        \"n\": 100,\n",
    "                        \"action\": k[0],\n",
    "                    },\n",
    "                    {\n",
    "                        \"type\": \"call\",\n",
    "                        \"strike\": chain[j][0],\n",
    "                        \"premium\": premium[1],\n",
    "                        \"n\": 100,\n",
    "                        \"action\": k[1],\n",
    "                    },\n",
    "                ]\n",
    "\n",
    "                inputs = Inputs(\n",
    "                    stock_price=stock_price,\n",
    "                    start_date=start_date,\n",
    "                    target_date=target_date,\n",
    "                    volatility=volatility,\n",
    "                    interest_rate=interest_rate,\n",
    "                    min_stock=min_stock,\n",
    "                    max_stock=max_stock,\n",
    "                    strategy=strategy,\n",
    "                )\n",
    "\n",
    "                out = run_strategy(inputs)\n",
    "\n",
    "                if maxpop < out.probability_of_profit:\n",
    "                    maxpop = out.probability_of_profit\n",
    "                    best_strategy = strategy\n",
    "\n",
    "    return best_strategy"
   ]
  },
  {
   "cell_type": "code",
   "execution_count": 9,
   "metadata": {
    "ExecuteTime": {
     "end_time": "2024-03-13T02:13:06.993843Z",
     "start_time": "2024-03-13T02:13:02.852422Z"
    }
   },
   "outputs": [
    {
     "name": "stdout",
     "output_type": "stream",
     "text": [
      "CPU times: user 21.5 s, sys: 42.5 ms, total: 21.5 s\n",
      "Wall time: 21.6 s\n"
     ]
    }
   ],
   "source": [
    "%%time\n",
    "best_strategy = get_highest_pop()"
   ]
  },
  {
   "cell_type": "code",
   "execution_count": 11,
   "metadata": {
    "ExecuteTime": {
     "end_time": "2024-03-13T02:13:10.575361Z",
     "start_time": "2024-03-13T02:13:10.568423Z"
    }
   },
   "outputs": [
    {
     "name": "stdout",
     "output_type": "stream",
     "text": [
      "[{'type': 'call', 'strike': np.float64(145.0), 'premium': np.float64(198.05), 'n': 100, 'action': 'buy'}, {'type': 'call', 'strike': np.float64(305.0), 'premium': np.float64(38.1), 'n': 100, 'action': 'sell'}]\n"
     ]
    }
   ],
   "source": [
    "print(best_strategy)"
   ]
  },
  {
   "cell_type": "code",
   "execution_count": 12,
   "metadata": {
    "ExecuteTime": {
     "end_time": "2024-03-13T02:13:59.732189Z",
     "start_time": "2024-03-13T02:13:59.726586Z"
    }
   },
   "outputs": [],
   "source": [
    "inputs = Inputs(\n",
    "    stock_price=stock_price,\n",
    "    start_date=start_date,\n",
    "    target_date=target_date,\n",
    "    volatility=volatility,\n",
    "    interest_rate=interest_rate,\n",
    "    min_stock=min_stock,\n",
    "    max_stock=max_stock,\n",
    "    strategy=best_strategy,\n",
    ")\n",
    "\n",
    "out = run_strategy(inputs)"
   ]
  },
  {
   "cell_type": "code",
   "execution_count": 13,
   "metadata": {
    "ExecuteTime": {
     "end_time": "2024-03-13T02:15:00.425508Z",
     "start_time": "2024-03-13T02:15:00.421747Z"
    }
   },
   "outputs": [
    {
     "name": "stdout",
     "output_type": "stream",
     "text": [
      "Strategy cost: -15995.00\n",
      "Maximum loss: 15995.00\n",
      "Maximum profit: 5.00\n",
      "Profitable stock price range:\n",
      "      304.96 ---> inf\n",
      "Probability of Profit (PoP): 99.1\n"
     ]
    }
   ],
   "source": [
    "print(f\"Strategy cost: {out.strategy_cost:.2f}\")\n",
    "print(f\"Maximum loss: {abs(out.minimum_return_in_the_domain):.2f}\")\n",
    "print(f\"Maximum profit: {out.maximum_return_in_the_domain:.2f}\")\n",
    "print(\"Profitable stock price range:\")\n",
    "\n",
    "for low, high in out.profit_ranges:\n",
    "    print(f\"      {low:.2f} ---> {high:.2f}\")\n",
    "\n",
    "print(f\"Probability of Profit (PoP): {out.probability_of_profit * 100.0:.1f}\")"
   ]
  },
  {
   "cell_type": "code",
   "execution_count": 14,
   "metadata": {
    "ExecuteTime": {
     "end_time": "2024-03-13T02:15:17.818384Z",
     "start_time": "2024-03-13T02:15:17.642102Z"
    }
   },
   "outputs": [
    {
     "data": {
      "text/plain": [
       "[<matplotlib.lines.Line2D at 0x7f95406bae00>]"
      ]
     },
     "execution_count": 14,
     "metadata": {},
     "output_type": "execute_result"
    },
    {
     "data": {
      "image/png": "[encoded data removed]",
      "text/plain": [
       "<Figure size 640x480 with 1 Axes>"
      ]
     },
     "metadata": {},
     "output_type": "display_data"
    }
   ],
   "source": [
    "s, pl_total = out.data.stock_price_array, out.data.strategy_profit\n",
    "zeroline = zeros(s.shape[0])\n",
    "plt.xlabel(\"Stock price\")\n",
    "plt.ylabel(\"Profit/Loss\")\n",
    "plt.xlim(0, 500)\n",
    "plt.plot(s, zeroline, \"m-\")\n",
    "plt.plot(s, pl_total, \"k-\")"
   ]
  },
  {
   "cell_type": "markdown",
   "metadata": {},
   "source": [
    "### Constrained (maximum profit/minimum loss ratio greater than or equal to 1):"
   ]
  },
  {
   "cell_type": "code",
   "execution_count": 15,
   "metadata": {
    "ExecuteTime": {
     "end_time": "2024-03-13T02:17:03.700786Z",
     "start_time": "2024-03-13T02:17:03.698316Z"
    }
   },
   "outputs": [],
   "source": [
    "def get_highest_pop():\n",
    "    maxpop = 0.0\n",
    "\n",
    "    best_strategy = None\n",
    "    for i in range(len(chain) - 1):\n",
    "        for j in range(i + i, len(chain)):\n",
    "            for k in ((\"sell\", \"buy\"), (\"buy\", \"sell\")):\n",
    "                if k[0] == \"sell\":\n",
    "                    premium = [chain[i][1], chain[j][2]]\n",
    "                else:\n",
    "                    premium = [chain[i][2], chain[j][1]]\n",
    "\n",
    "                strategy = [\n",
    "                    {\n",
    "                        \"type\": \"call\",\n",
    "                        \"strike\": chain[i][0],\n",
    "                        \"premium\": premium[0],\n",
    "                        \"n\": 100,\n",
    "                        \"action\": k[0],\n",
    "                    },\n",
    "                    {\n",
    "                        \"type\": \"call\",\n",
    "                        \"strike\": chain[j][0],\n",
    "                        \"premium\": premium[1],\n",
    "                        \"n\": 100,\n",
    "                        \"action\": k[1],\n",
    "                    },\n",
    "                ]\n",
    "\n",
    "                inputs = Inputs(\n",
    "                    stock_price=stock_price,\n",
    "                    start_date=start_date,\n",
    "                    target_date=target_date,\n",
    "                    volatility=volatility,\n",
    "                    interest_rate=interest_rate,\n",
    "                    min_stock=min_stock,\n",
    "                    max_stock=max_stock,\n",
    "                    strategy=strategy,\n",
    "                )\n",
    "\n",
    "                out = run_strategy(inputs)\n",
    "\n",
    "                if (\n",
    "                    out.maximum_return_in_the_domain\n",
    "                    / abs(out.minimum_return_in_the_domain)\n",
    "                    >= 1.0\n",
    "                ):\n",
    "                    if maxpop < out.probability_of_profit:\n",
    "                        maxpop = out.probability_of_profit\n",
    "                        best_strategy = strategy\n",
    "\n",
    "    return best_strategy"
   ]
  },
  {
   "cell_type": "code",
   "execution_count": 16,
   "metadata": {
    "ExecuteTime": {
     "end_time": "2024-03-13T02:17:10.924712Z",
     "start_time": "2024-03-13T02:17:06.588218Z"
    }
   },
   "outputs": [
    {
     "name": "stdout",
     "output_type": "stream",
     "text": [
      "CPU times: user 21.5 s, sys: 19.8 ms, total: 21.6 s\n",
      "Wall time: 21.7 s\n"
     ]
    }
   ],
   "source": [
    "%%time\n",
    "best_strategy = get_highest_pop()"
   ]
  },
  {
   "cell_type": "code",
   "execution_count": 17,
   "metadata": {
    "ExecuteTime": {
     "end_time": "2024-03-13T02:17:10.925263Z",
     "start_time": "2024-03-13T02:17:10.920081Z"
    }
   },
   "outputs": [
    {
     "name": "stdout",
     "output_type": "stream",
     "text": [
      "[{'type': 'call', 'strike': np.float64(260.0), 'premium': np.float64(83.0), 'n': 100, 'action': 'buy'}, {'type': 'call', 'strike': np.float64(430.0), 'premium': np.float64(0.07), 'n': 100, 'action': 'sell'}]\n"
     ]
    }
   ],
   "source": [
    "print(best_strategy)"
   ]
  },
  {
   "cell_type": "code",
   "execution_count": 13,
   "metadata": {
    "ExecuteTime": {
     "end_time": "2024-03-13T02:17:45.609770Z",
     "start_time": "2024-03-13T02:17:45.600524Z"
    }
   },
   "outputs": [],
   "source": [
    "inputs = Inputs(\n",
    "    stock_price=stock_price,\n",
    "    start_date=start_date,\n",
    "    target_date=target_date,\n",
    "    volatility=volatility,\n",
    "    interest_rate=interest_rate,\n",
    "    min_stock=min_stock,\n",
    "    max_stock=max_stock,\n",
    "    strategy=best_strategy,\n",
    ")\n",
    "\n",
    "out = run_strategy(inputs)"
   ]
  },
  {
   "cell_type": "code",
   "execution_count": 14,
   "metadata": {
    "ExecuteTime": {
     "end_time": "2024-03-13T02:18:38.176542Z",
     "start_time": "2024-03-13T02:18:38.172582Z"
    }
   },
   "outputs": [
    {
     "name": "stdout",
     "output_type": "stream",
     "text": [
      "Strategy cost: -8293.00\n",
      "Maximum loss: 8293.00\n",
      "Maximum profit: 8707.00\n",
      "Profitable stock price range:\n",
      "      342.94 ---> inf\n",
      "Probability of Profit (PoP): 49.1\n"
     ]
    }
   ],
   "source": [
    "print(f\"Strategy cost: {out.strategy_cost:.2f}\")\n",
    "print(f\"Maximum loss: {abs(out.minimum_return_in_the_domain):.2f}\")\n",
    "print(f\"Maximum profit: {out.maximum_return_in_the_domain:.2f}\")\n",
    "print(\"Profitable stock price range:\")\n",
    "\n",
    "for low, high in out.profit_ranges:\n",
    "    print(f\"      {low:.2f} ---> {high:.2f}\")\n",
    "\n",
    "print(f\"Probability of Profit (PoP): {out.probability_of_profit * 100.0:.1f}\")"
   ]
  },
  {
   "cell_type": "code",
   "execution_count": 15,
   "metadata": {
    "ExecuteTime": {
     "end_time": "2024-03-13T02:18:40.631370Z",
     "start_time": "2024-03-13T02:18:40.554722Z"
    }
   },
   "outputs": [
    {
     "data": {
      "text/plain": [
       "[<matplotlib.lines.Line2D at 0x1d2b35ec450>]"
      ]
     },
     "execution_count": 15,
     "metadata": {},
     "output_type": "execute_result"
    },
    {
     "data": {
      "image/png": "[encoded data removed]",
      "text/plain": [
       "<Figure size 640x480 with 1 Axes>"
      ]
     },
     "metadata": {},
     "output_type": "display_data"
    }
   ],
   "source": [
    "s, pl_total = out.data.stock_price_array, out.data.strategy_profit\n",
    "zeroline = zeros(s.shape[0])\n",
    "plt.xlabel(\"Stock price\")\n",
    "plt.ylabel(\"Profit/Loss\")\n",
    "plt.xlim(0, 500)\n",
    "plt.plot(s, zeroline, \"m-\")\n",
    "plt.plot(s, pl_total, \"k-\")"
   ]
  },
  {
   "cell_type": "code",
   "execution_count": null,
   "metadata": {},
   "outputs": [],
   "source": []
  }
 ],
 "metadata": {
  "kernelspec": {
   "display_name": ".venv",
   "language": "python",
   "name": "python3"
  },
  "language_info": {
   "codemirror_mode": {
    "name": "ipython",
    "version": 3
   },
   "file_extension": ".py",
   "mimetype": "text/x-python",
   "name": "python",
   "nbconvert_exporter": "python",
   "pygments_lexer": "ipython3",
   "version": "3.10.12"
  }
 },
 "nbformat": 4,
 "nbformat_minor": 4
}
